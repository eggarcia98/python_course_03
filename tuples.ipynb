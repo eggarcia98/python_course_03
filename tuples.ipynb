{
  "cells": [
    {
      "cell_type": "markdown",
      "metadata": {
        "id": "view-in-github",
        "colab_type": "text"
      },
      "source": [
        "<a href=\"https://colab.research.google.com/github/eggarcia98/python_course_03/blob/main/tuples.ipynb\" target=\"_parent\"><img src=\"https://colab.research.google.com/assets/colab-badge.svg\" alt=\"Open In Colab\"/></a>"
      ]
    },
    {
      "cell_type": "markdown",
      "metadata": {
        "id": "C65wAEPOwhIY"
      },
      "source": [
        "1. Write a function to find the most common elements in a tuple."
      ]
    },
    {
      "cell_type": "code",
      "execution_count": 4,
      "metadata": {
        "id": "hcYl7fOPwhIa",
        "colab": {
          "base_uri": "https://localhost:8080/"
        },
        "outputId": "29f600d1-201f-41b5-d161-c747d02897e4"
      },
      "outputs": [
        {
          "output_type": "stream",
          "name": "stdout",
          "text": [
            "{'house': 2, 'laptop': 2}\n"
          ]
        }
      ],
      "source": [
        "counter_dictionary = dict({})\n",
        "\n",
        "elements = (\"house\", \"laptop\", \"bike\", \"house\", \"trainers\", \"laptop\")\n",
        "\n",
        "for element in elements:\n",
        "  if not counter_dictionary.get(element, False):\n",
        "    counter_dictionary[element] = 0\n",
        "  counter_dictionary[element] += 1\n",
        "\n",
        "max_value = max(counter_dictionary.values())\n",
        "dictionary_pair_values = list(counter_dictionary.items())\n",
        "filtered_dictionary = filter(lambda pair: pair[1] == max_value, dictionary_pair_values)\n",
        "\n",
        "most_commons_elements = dict(filtered_dictionary)\n",
        "print(most_commons_elements)"
      ]
    },
    {
      "cell_type": "markdown",
      "metadata": {
        "id": "f878HtwxwhIc"
      },
      "source": [
        "2. Write a function to check if a given tuple is a palindrome, meaning the elements are the same in reverse order."
      ]
    },
    {
      "cell_type": "code",
      "execution_count": 12,
      "metadata": {
        "id": "iTEVY6lfwhId",
        "colab": {
          "base_uri": "https://localhost:8080/"
        },
        "outputId": "7d0c5cc8-9ab0-4eb0-d240-96fc7b811b11"
      },
      "outputs": [
        {
          "output_type": "stream",
          "name": "stdout",
          "text": [
            "The tuple: ('house', 'ball', 'bike', 'laptop', 'house') is not palindrome\n",
            "The tuple: ('house', 'laptop', 'bike', 'laptop', 'house') is palindrome\n"
          ]
        }
      ],
      "source": [
        "palindrome_tuple = (\"house\", \"laptop\", \"bike\", \"laptop\", \"house\")\n",
        "no_palindrome_tuple = (\"house\", \"ball\", \"bike\", \"laptop\", \"house\")\n",
        "\n",
        "def tuple_is_palindrome(tuple_input):\n",
        "  tuple_list = list(tuple_input)\n",
        "  reverse_tuple_list = tuple_list[::-1]\n",
        "\n",
        "  tuple_text = \",\".join(tuple_list)\n",
        "  reverse_tuple_text = \",\".join(reverse_tuple_list)\n",
        " \n",
        "  if tuple_text == reverse_tuple_text:\n",
        "    return True\n",
        "\n",
        "  return False\n",
        "\n",
        "result_A = \"is palindrome\" if tuple_is_palindrome(no_palindrome_tuple) else \"is not palindrome\"\n",
        "print(f\"The tuple: {no_palindrome_tuple} {result_A}\")\n",
        "\n",
        "result_B = \"is palindrome\" if tuple_is_palindrome(palindrome_tuple) else \"is not palindrome\"\n",
        "print(f\"The tuple: {palindrome_tuple} {result_B}\")\n",
        "\n",
        "\n"
      ]
    },
    {
      "cell_type": "markdown",
      "metadata": {
        "id": "KWpOEnjFwhId"
      },
      "source": [
        "3. Write a function to find the frequency of elements in a tuple, and return a dictionary mapping each element to its frequency."
      ]
    },
    {
      "cell_type": "code",
      "execution_count": null,
      "metadata": {
        "id": "iNBS3jzYwhIe"
      },
      "outputs": [],
      "source": []
    },
    {
      "cell_type": "markdown",
      "metadata": {
        "id": "pY7HPwwqwhIf"
      },
      "source": [
        "4. Write a function that takes a tuple as an argument and returns a new tuple with only the even elements from the original tuple."
      ]
    },
    {
      "cell_type": "code",
      "execution_count": null,
      "metadata": {
        "id": "MJmDUOczwhIf"
      },
      "outputs": [],
      "source": []
    },
    {
      "cell_type": "markdown",
      "metadata": {
        "id": "JMF__4J8whIg"
      },
      "source": [
        "5. Write a function to find all unique elements in a tuple and return them in a new tuple."
      ]
    }
  ],
  "metadata": {
    "kernelspec": {
      "display_name": "Python 3",
      "language": "python",
      "name": "python3"
    },
    "language_info": {
      "name": "python",
      "version": "3.10.9 (tags/v3.10.9:1dd9be6, Dec  6 2022, 20:01:21) [MSC v.1934 64 bit (AMD64)]"
    },
    "orig_nbformat": 4,
    "vscode": {
      "interpreter": {
        "hash": "f7a5be651532581cb44625d52e18aa1d390cab54bc6b51099d8c30bea9b68219"
      }
    },
    "colab": {
      "provenance": [],
      "include_colab_link": true
    }
  },
  "nbformat": 4,
  "nbformat_minor": 0
}